{
 "cells": [
  {
   "cell_type": "markdown",
   "id": "60d759ec",
   "metadata": {},
   "source": [
    "## 🔹 1️⃣ Dataset Yapısı\n",
    "\n",
    "* YOLOv8 için tipik dataset yapısı şu şekilde olmalı:"
   ]
  },
  {
   "cell_type": "markdown",
   "id": "f25d922e",
   "metadata": {},
   "source": [
    "```python\n",
    "Speed_Bump_Dataset/\n",
    "│\n",
    "├── images/\n",
    "│   ├── train/\n",
    "│   │   ├── img1.jpg\n",
    "│   │   ├── img2.jpg\n",
    "│   │   └── ...\n",
    "│   └── val/\n",
    "│       ├── img1.jpg\n",
    "│       └── ...\n",
    "│\n",
    "└── labels/\n",
    "    ├── train/\n",
    "    │   ├── img1.txt\n",
    "    │   ├── img2.txt\n",
    "    │   └── ...\n",
    "    └── val/\n",
    "        ├── img1.txt\n",
    "        └── ...\n"
   ]
  },
  {
   "cell_type": "markdown",
   "id": "720849e0",
   "metadata": {},
   "source": [
    "* .txt dosyaları YOLO formatında etiket içerir:"
   ]
  },
  {
   "cell_type": "markdown",
   "id": "f3f480f9",
   "metadata": {},
   "source": [
    "class_id x_center y_center width height\n"
   ]
  },
  {
   "cell_type": "markdown",
   "id": "409cdc10",
   "metadata": {},
   "source": [
    "#### Bizim sınıflar: 0 → bump, 1 → road"
   ]
  },
  {
   "cell_type": "markdown",
   "id": "fa4e74d1",
   "metadata": {},
   "source": [
    "# 🔹 2️⃣ Data.yaml Dosyası\n",
    "\n",
    "* YOLOv8 eğitimi için data.yaml gerekiyor:"
   ]
  },
  {
   "cell_type": "markdown",
   "id": "3d56793c",
   "metadata": {},
   "source": [
    "```base\n",
    "train: \"Speed_Bump_Dataset/images/train\"\n",
    "val: \"Speed_Bump_Dataset/images/val\"\n",
    "\n",
    "nc: 2  # number of classes\n",
    "names: [\"bump\", \"road\"]\n"
   ]
  },
  {
   "cell_type": "markdown",
   "id": "4a83b10f",
   "metadata": {},
   "source": [
    "* nc → sınıf sayısı\n",
    "\n",
    "* names → sınıf isimleri"
   ]
  },
  {
   "cell_type": "markdown",
   "id": "b214f44e",
   "metadata": {},
   "source": [
    "# 3️⃣ Etiketleme\n",
    "\n",
    "* Mevcut datasetin görsellerini LabelImg veya Roboflow ile etiketle\n",
    "\n",
    "* Tümseği ve yolu bounding box ile işaretle\n",
    "\n",
    "* .txt dosyaları otomatik oluşturulur\n",
    "\n",
    "### Not: İnsan, araç gibi sınıfları eklemiyoruz → model sadece bizim sınıfları öğrenecek"
   ]
  },
  {
   "cell_type": "markdown",
   "id": "fe87945c",
   "metadata": {},
   "source": [
    "# 🔹 4️⃣ YOLOv8 Eğitimi"
   ]
  },
  {
   "cell_type": "markdown",
   "id": "a6a1f83f",
   "metadata": {},
   "source": [
    "```python\n",
    "from ultralytics import YOLO\n",
    "\n",
    "# Özel model eğit\n",
    "model = YOLO(\"yolov8n.pt\")  # hazır Nano model (hafif ve hızlı)\n",
    "model.train(\n",
    "    data=\"data.yaml\",  # oluşturduğumuz data.yaml\n",
    "    epochs=50,         # eğitim süresi ihtiyaca göre\n",
    "    imgsz=640,         # görüntü boyutu\n",
    "    batch=16,          # batch size\n",
    "    project=\"runs/train\",  # sonuçların kaydedileceği klasör\n",
    "    name=\"bump_road_model\"\n",
    ")\n"
   ]
  },
  {
   "cell_type": "markdown",
   "id": "d368dd87",
   "metadata": {},
   "source": [
    "* yolov8n.pt → hazır ön eğitimli model (transfer learning)\n",
    "\n",
    "* Eğitim sonunda model yalnızca tümsek ve yol sınıflarını tahmin edecek"
   ]
  },
  {
   "cell_type": "markdown",
   "id": "1d61c9c4",
   "metadata": {},
   "source": [
    "# 🔹 5️⃣ Test ve Kullanım"
   ]
  },
  {
   "cell_type": "markdown",
   "id": "7b8d8a39",
   "metadata": {},
   "source": [
    "```python \n",
    "# Eğitilmiş modeli yükle\n",
    "model = YOLO(\"runs/train/bump_road_model/weights/best.pt\")\n",
    "\n",
    "# Tahmin\n",
    "results = model(\"Speed_Bump_Dataset/images/val/img1.jpg\")\n",
    "results.show()  # bounding box çizilir\n",
    "print(results[0].boxes.xyxy, results[0].boxes.cls)\n"
   ]
  },
  {
   "cell_type": "markdown",
   "id": "38092ae4",
   "metadata": {},
   "source": [
    "* Artık insan veya araç tahmini yok, sadece bump ve road\n",
    "\n",
    "* results[0].boxes.xyxy → koordinatlar\n",
    "\n",
    "* results[0].boxes.cls → sınıf ID"
   ]
  },
  {
   "cell_type": "markdown",
   "id": "336d7049",
   "metadata": {},
   "source": []
  }
 ],
 "metadata": {
  "language_info": {
   "name": "python"
  }
 },
 "nbformat": 4,
 "nbformat_minor": 5
}

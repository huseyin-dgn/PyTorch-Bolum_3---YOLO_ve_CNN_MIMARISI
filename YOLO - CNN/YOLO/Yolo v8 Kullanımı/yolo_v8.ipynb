{
 "cells": [
  {
   "cell_type": "markdown",
   "id": "bd584608",
   "metadata": {},
   "source": [
    "# 🔹 YOLOv8 ile Proje Kullanımı\n",
    "\n",
    "## 1. Kurulum\n",
    "Önce Ultralytics YOLO kütüphanesini kuruyo;rsun:\n",
    "```bash\n",
    "pip install ultralytics\n"
   ]
  },
  {
   "cell_type": "markdown",
   "id": "34d35e25",
   "metadata": {},
   "source": [
    "## 2. Modeli Yükle\n",
    "\n",
    "* Python içinde:"
   ]
  },
  {
   "cell_type": "code",
   "execution_count": 5,
   "id": "be866b82",
   "metadata": {},
   "outputs": [],
   "source": [
    "from ultralytics import YOLO\n",
    "import cv2\n",
    "\n",
    "# Hazır COCO modelini yükle\n",
    "model = YOLO(\"yolov8n.pt\")  # n = nano (hafif ve hızlı)\n"
   ]
  },
  {
   "cell_type": "markdown",
   "id": "540ca7ab",
   "metadata": {},
   "source": [
    "## 3. Görüntü veya Kamera ile Test"
   ]
  },
  {
   "cell_type": "code",
   "execution_count": 7,
   "id": "5fe595d6",
   "metadata": {},
   "outputs": [
    {
     "name": "stdout",
     "output_type": "stream",
     "text": [
      "\n",
      "image 1/1 c:\\Users\\hdgn5\\OneDrive\\Masast\\YOLO\\YOLO\\Yolo v8 Kullanm\\indir.jpeg: 640x480 1 car, 54.4ms\n",
      "Speed: 1.9ms preprocess, 54.4ms inference, 0.7ms postprocess per image at shape (1, 3, 640, 480)\n"
     ]
    }
   ],
   "source": [
    "# Fotoğrafın yolunu buraya yaz (örneğin: car.jpg)\n",
    "results = model(\"indir.jpeg\", show=True)\n",
    "\n",
    "# Sonucu OpenCV ile göster\n",
    "for r in results:\n",
    "    img = r.plot()  # YOLO'nun çizilmiş çıktısı\n",
    "    cv2.imshow(\"YOLOv8 Detection\", img)\n",
    "\n",
    "    # 'q' tuşuna basınca çık\n",
    "    while True:\n",
    "        if cv2.waitKey(1) & 0xFF == ord('q'):\n",
    "            cv2.destroyAllWindows()\n",
    "            break"
   ]
  },
  {
   "cell_type": "markdown",
   "id": "abe83f7a",
   "metadata": {},
   "source": [
    "## ✅ Bu şekilde:\n",
    "\n",
    "* YOLO arabayı algılar, kutu çizer.\n",
    "\n",
    "* Pencereyi kapatmak için sadece q tuşuna basarsın."
   ]
  },
  {
   "cell_type": "markdown",
   "id": "fb41f04d",
   "metadata": {},
   "source": [
    "### Gelin biraz örneklendirelim"
   ]
  },
  {
   "cell_type": "code",
   "execution_count": 12,
   "id": "a5c713c7",
   "metadata": {},
   "outputs": [
    {
     "name": "stdout",
     "output_type": "stream",
     "text": [
      "\n",
      "image 1/1 c:\\Users\\hdgn5\\OneDrive\\Masast\\YOLO\\YOLO\\Yolo v8 Kullanm\\indir (1).jpeg: 448x640 1 person, 1 tie, 64.8ms\n",
      "Speed: 1.6ms preprocess, 64.8ms inference, 0.8ms postprocess per image at shape (1, 3, 448, 640)\n",
      "Sınıf: person | Güven: 0.91 | Koordinatlar: (61, 4, 243, 181)\n",
      "Sınıf: tie | Güven: 0.88 | Koordinatlar: (105, 121, 135, 182)\n"
     ]
    }
   ],
   "source": [
    "# Fotoğrafın yolunu buraya yaz (örneğin: car.jpg)\n",
    "results = model(\"indir (1).jpeg\", show=True)\n",
    "\n",
    "# Sonucu işleme\n",
    "for r in results:\n",
    "    img = r.plot()  # YOLO'nun çizilmiş çıktısı\n",
    "    \n",
    "    # Algılanan nesneler\n",
    "    for box in r.boxes:\n",
    "        cls_id = int(box.cls[0])  # sınıf id\n",
    "        conf = float(box.conf[0]) # güven skoru\n",
    "        x1, y1, x2, y2 = box.xyxy[0]  # koordinatlar (x1,y1,x2,y2)\n",
    "        \n",
    "        print(f\"Sınıf: {model.names[cls_id]} | Güven: {conf:.2f} | \"\n",
    "              f\"Koordinatlar: ({int(x1)}, {int(y1)}, {int(x2)}, {int(y2)})\")\n",
    "    \n",
    "    # Görseli göster\n",
    "    cv2.imshow(\"YOLOv8 Detection\", img)\n",
    "\n",
    "    # 'q' tuşuna basınca çık\n",
    "    while True:\n",
    "        if cv2.waitKey(1) & 0xFF == ord('q'):\n",
    "            cv2.destroyAllWindows()\n",
    "            break"
   ]
  },
  {
   "cell_type": "markdown",
   "id": "f918b8c9",
   "metadata": {},
   "source": [
    "# İşte COCO dataset’te YOLOv8’in hazır olarak tanıyabildiği 80 sınıfın listesi:"
   ]
  },
  {
   "cell_type": "markdown",
   "id": "770bab25",
   "metadata": {},
   "source": [
    "| ID | Sınıf Adı      |\n",
    "| -- | -------------- |\n",
    "| 0  | person         |\n",
    "| 1  | bicycle        |\n",
    "| 2  | car            |\n",
    "| 3  | motorcycle     |\n",
    "| 4  | airplane       |\n",
    "| 5  | bus            |\n",
    "| 6  | train          |\n",
    "| 7  | truck          |\n",
    "| 8  | boat           |\n",
    "| 9  | traffic light  |\n",
    "| 10 | fire hydrant   |\n",
    "| 11 | stop sign      |\n",
    "| 12 | parking meter  |\n",
    "| 13 | bench          |\n",
    "| 14 | bird           |\n",
    "| 15 | cat            |\n",
    "| 16 | dog            |\n",
    "| 17 | horse          |\n",
    "| 18 | sheep          |\n",
    "| 19 | cow            |\n",
    "| 20 | elephant       |\n",
    "| 21 | bear           |\n",
    "| 22 | zebra          |\n",
    "| 23 | giraffe        |\n",
    "| 24 | backpack       |\n",
    "| 25 | umbrella       |\n",
    "| 26 | handbag        |\n",
    "| 27 | tie            |\n",
    "| 28 | suitcase       |\n",
    "| 29 | frisbee        |\n",
    "| 30 | skis           |\n",
    "| 31 | snowboard      |\n",
    "| 32 | sports ball    |\n",
    "| 33 | kite           |\n",
    "| 34 | baseball bat   |\n",
    "| 35 | baseball glove |\n",
    "| 36 | skateboard     |\n",
    "| 37 | surfboard      |\n",
    "| 38 | tennis racket  |\n",
    "| 39 | bottle         |\n",
    "| 40 | wine glass     |\n",
    "| 41 | cup            |\n",
    "| 42 | fork           |\n",
    "| 43 | knife          |\n",
    "| 44 | spoon          |\n",
    "| 45 | bowl           |\n",
    "| 46 | banana         |\n",
    "| 47 | apple          |\n",
    "| 48 | sandwich       |\n",
    "| 49 | orange         |\n",
    "| 50 | broccoli       |\n",
    "| 51 | carrot         |\n",
    "| 52 | hot dog        |\n",
    "| 53 | pizza          |\n",
    "| 54 | donut          |\n",
    "| 55 | cake           |\n",
    "| 56 | chair          |\n",
    "| 57 | couch          |\n",
    "| 58 | potted plant   |\n",
    "| 59 | bed            |\n",
    "| 60 | dining table   |\n",
    "| 61 | toilet         |\n",
    "| 62 | tv             |\n",
    "| 63 | laptop         |\n",
    "| 64 | mouse          |\n",
    "| 65 | remote         |\n",
    "| 66 | keyboard       |\n",
    "| 67 | cell phone     |\n",
    "| 68 | microwave      |\n",
    "| 69 | oven           |\n",
    "| 70 | toaster        |\n",
    "| 71 | sink           |\n",
    "| 72 | refrigerator   |\n",
    "| 73 | book           |\n",
    "| 74 | clock          |\n",
    "| 75 | vase           |\n",
    "| 76 | scissors       |\n",
    "| 77 | teddy bear     |\n",
    "| 78 | hair drier     |\n",
    "| 79 | toothbrush     |\n"
   ]
  },
  {
   "cell_type": "markdown",
   "id": "410d6e6c",
   "metadata": {},
   "source": [
    "## Eğitilmesi gereken özel sınıflar:\n",
    "\n",
    "* kaldırım, yol çalışması, tümsek, çukur, engelli rampası gibi çevresel engeller."
   ]
  },
  {
   "cell_type": "markdown",
   "id": "9b5b0098",
   "metadata": {},
   "source": [
    "----\n",
    "\n",
    "# 🔹 YOLOv8 ile Özel Sınıfları Eğitmek \n",
    "\n",
    "Bu rehber, YOLOv8 kullanarak kendi özel sınıflarını (ör. tümsek, kaldırım, yol çalışması) nasıl eğitebileceğini adım adım anlatır.\n",
    "\n",
    "\n",
    "\n",
    "## 1. Veri Toplama\n",
    "- Her sınıf için yeterli sayıda fotoğraf topla.\n",
    "  - Örn: “tümsek” için 200–500 farklı açıdan fotoğraf.\n",
    "  - “kaldırım”, “yol çalışması” için de aynı.\n",
    "- Farklı ışık, açı ve mesafelerden fotoğraf çekmek önemlidir.\n",
    "- Fotoğraflar gerçek ortamdan veya stok kaynaklardan alınabilir.\n",
    "\n",
    "\n",
    "\n",
    "## 2. Etiketleme (Annotation)\n",
    "- Nesneleri kutu içine alıp sınıf etiketi ver.\n",
    "- Araçlar: **LabelImg**, **Roboflow**, **Makesense.ai** gibi araçlar.\n",
    "- YOLO formatı (`.txt`) kullanılır:  \n"
   ]
  },
  {
   "cell_type": "markdown",
   "id": "6502ee7f",
   "metadata": {},
   "source": [
    "* <class_id> <x_center> <y_center> <width> <height>"
   ]
  },
  {
   "cell_type": "markdown",
   "id": "a27bd5d2",
   "metadata": {},
   "source": [
    "```python ü\n",
    "dataset/\n",
    "images/\n",
    "train/\n",
    "val/\n",
    "labels/\n",
    "train/\n",
    "val/,"
   ]
  },
  {
   "cell_type": "markdown",
   "id": "fcbead91",
   "metadata": {},
   "source": [
    "\n",
    "- `images/` → Fotoğraflar  \n",
    "- `labels/` → Karşılık gelen `.txt` etiket dosyaları\n",
    "\n",
    "Ayrıca bir **data.yaml** dosyası oluştur:\n",
    "\n",
    "```yaml\n",
    "train: dataset/images/train\n",
    "val: dataset/images/val\n",
    "\n",
    "nc: 3  # kaç sınıf\n",
    "names: ['tumsek', 'kaldirim', 'yol_calismasi']\n"
   ]
  },
  {
   "cell_type": "markdown",
   "id": "716f888b",
   "metadata": {},
   "source": [
    "## 4. Modeli Eğitmek\n",
    "\n",
    "Önceden eğitilmiş YOLOv8 modelini kullan (transfer learning):\n",
    "\n",
    "```bash\n",
    "pip install ultralytics\n",
    "\n",
    "from ultralytics import YOLO\n",
    "\n",
    "# Pretrained model\n",
    "model = YOLO(\"yolov8n.pt\")\n",
    "\n",
    "# Özel dataset ile eğitim\n",
    "model.train(data=\"data.yaml\", epochs=50, imgsz=640)\n"
   ]
  },
  {
   "cell_type": "markdown",
   "id": "bb48a4a1",
   "metadata": {},
   "source": [
    "* epochs, batch size, imgsz ihtiyaca göre değiştirilebilir.\n",
    "\n",
    "* Eğitim sonunda kendi sınıflarını tanıyan model oluşur."
   ]
  },
  {
   "cell_type": "markdown",
   "id": "1b76b3a6",
   "metadata": {},
   "source": [
    "## 5. Modeli Test Et"
   ]
  },
  {
   "cell_type": "markdown",
   "id": "9b797f7c",
   "metadata": {},
   "source": [
    "```bash \n",
    "results = model(\"test_image.jpg\")\n",
    "results.show()  # Bounding box çizilir\n"
   ]
  },
  {
   "cell_type": "markdown",
   "id": "ba58612c",
   "metadata": {},
   "source": [
    "* Konsolda koordinat ve sınıf bilgisi de alınabilir."
   ]
  },
  {
   "cell_type": "markdown",
   "id": "20c7adcf",
   "metadata": {},
   "source": [
    "## 6. İpuçları\n",
    "\n",
    "* Küçük dataset → veri artırma (augmentation) yap: döndürme, yakınlaştırma, parlaklık değişimi.\n",
    "\n",
    "* Sınıf sayısı az → hafif model (YOLOv8n) yeterli ve hızlı çalışır.\n",
    "\n",
    "* Gerçek zamanlı kullanım → GPU veya Jetson/Edge cihaz önerilir."
   ]
  },
  {
   "cell_type": "markdown",
   "id": "fbbe3bbd",
   "metadata": {},
   "source": []
  },
  {
   "cell_type": "markdown",
   "id": "88de83e3",
   "metadata": {},
   "source": []
  }
 ],
 "metadata": {
  "kernelspec": {
   "display_name": "base",
   "language": "python",
   "name": "python3"
  },
  "language_info": {
   "codemirror_mode": {
    "name": "ipython",
    "version": 3
   },
   "file_extension": ".py",
   "mimetype": "text/x-python",
   "name": "python",
   "nbconvert_exporter": "python",
   "pygments_lexer": "ipython3",
   "version": "3.13.5"
  }
 },
 "nbformat": 4,
 "nbformat_minor": 5
}

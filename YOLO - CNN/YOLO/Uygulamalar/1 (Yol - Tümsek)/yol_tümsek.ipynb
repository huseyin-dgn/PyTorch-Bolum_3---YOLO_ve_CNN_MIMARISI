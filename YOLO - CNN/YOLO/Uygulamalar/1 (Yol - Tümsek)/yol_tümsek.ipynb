{
 "cells": [
  {
   "cell_type": "markdown",
   "id": "cfae66d3",
   "metadata": {},
   "source": [
    "# 🔹 Güncellenmiş YOLO + CNN Pipeline\n",
    "\n",
    "## 1️⃣ Veri Seti Yapısı\n",
    "- Train:\n",
    "  - bump → Tümsek görselleri\n",
    "  - road → Yol görselleri\n",
    "- Test:\n",
    "  - bump → Tümsek görselleri\n",
    "  - road → Yol görselleri\n",
    "\n",
    "\n",
    "## 2️⃣ Etiketleme\n",
    "- Her görsel için **YOLO formatında .txt** dosyası oluştur:\n",
    "  - bump = 0\n",
    "  - road = 1\n",
    "- Bounding box koordinatlarını normalize et (0–1 arası)\n",
    "- Örn: `0 0.512 0.423 0.142 0.058`\n",
    "\n",
    "\n",
    "\n",
    "## 3️⃣ Crop İşlemi\n",
    "- YOLO bounding box tahminlerini kullan:\n",
    "  - Tümsek veya yol alanlarını crop et\n",
    "  - Crop sırasında padding bırak → çevre yol bilgisi kaybolmasın\n",
    "- Crop edilmiş görseller CNN’e input olacak\n",
    "\n",
    "\n",
    "## 4️⃣ Data Augmentation\n",
    "- rotation, flip, brightness/contrast, zoom\n",
    "- Hem YOLO hem CNN için uygulanabilir\n",
    "\n",
    "\n",
    "\n",
    "## 5️⃣ Model Eğitimi\n",
    "### YOLOv8\n",
    "- Train: `train/bump + train/road`\n",
    "- Val: `test/bump + test/road`\n",
    "- Çıktı: bounding box + sınıf (tümsek veya yol)\n",
    "\n",
    "### CNN\n",
    "- YOLO’dan çıkan crop’lar CNN’e input\n",
    "- CNN detaylı sınıflandırma yapar:\n",
    "  - Tümsek tipi, yol üzerindeki çatlaklar vb.\n",
    "\n",
    "\n",
    "## 6️⃣ Özet İş Akışı\n",
    "1. Görsel → Etiketleme + Crop  \n",
    "2. YOLOv8 → Nesne tespiti (bbox + sınıf)  \n",
    "3. YOLO bbox → Crop → CNN → Detaylı sınıflandırma  \n",
    "4. Çıktı → Sesli uyarı veya sistem geri bildirimi\n"
   ]
  },
  {
   "cell_type": "markdown",
   "id": "de48cb2d",
   "metadata": {},
   "source": [
    "----\n",
    "\n",
    "# 1️ Adım: Veri Setini Okuma ve Sınıfları Tanımlama"
   ]
  },
  {
   "cell_type": "code",
   "execution_count": 3,
   "id": "22da331f",
   "metadata": {},
   "outputs": [
    {
     "name": "stdout",
     "output_type": "stream",
     "text": [
      "bump -> Train: 2982, Test: 1249\n",
      "road -> Train: 2880, Test: 1192\n"
     ]
    }
   ],
   "source": [
    "import os\n",
    "from pathlib import Path\n",
    "\n",
    "base_dir=Path(r\"C:\\Users\\hdgn5\\OneDrive\\Masaüstü\\YOLO\\YOLO\\Uygulamalar\\Dataset\\Speed_Bump\\bump_detection_dataset\")\n",
    "\n",
    "train_dir = base_dir / \"train\"\n",
    "test_dir = base_dir / \"test\"\n",
    "\n",
    "classes = [\"bump\" , \"road\"]\n",
    "\n",
    "for cls in classes:\n",
    "    train_images = list((train_dir/cls).glob(\"*.jpg\"))\n",
    "    test_images = list((test_dir/cls).glob(\"*jpg\"))\n",
    "    \n",
    "    print(f\"{cls} -> Train: {len(train_images)}, Test: {len(test_images)}\")\n"
   ]
  },
  {
   "cell_type": "markdown",
   "id": "ee068c0b",
   "metadata": {},
   "source": [
    "# 2 Adım: Tümsek görsellerini crop edip YOLO etiketlerini oluşturmak."
   ]
  },
  {
   "cell_type": "markdown",
   "id": "da67d131",
   "metadata": {},
   "source": [
    "### Burada yapacağımız işlem:\n",
    "\n",
    "* Görselleri açmak\n",
    "\n",
    "* Tümseğin bulunduğu alanı bbox ile işaretlemek\n",
    "\n",
    "* Crop yapmak ve crop edilen görselleri kaydetmek\n",
    "\n",
    "* YOLO formatında .txt dosyası oluşturmak"
   ]
  },
  {
   "cell_type": "markdown",
   "id": "50950901",
   "metadata": {},
   "source": [
    "####  İşleme geçmeden önce şu soruya detay verelim ;\n",
    "## Tümseğin bulunduğu yeri YOLO nasıl biliyor ?"
   ]
  },
  {
   "cell_type": "markdown",
   "id": "64e89967",
   "metadata": {},
   "source": [
    "* YOLO önceden eğitilmiş bir model veya senin eğiteceğin özel model üzerinden nesneleri öğreniyor. Yani model “tümseğin nerede olduğunu” önceden bilmez, onu görüntüdeki özelliklerden çıkarır."
   ]
  },
  {
   "cell_type": "markdown",
   "id": "61534c06",
   "metadata": {},
   "source": [
    "# 🔹 YOLO ile Nesne Tespiti: Tümsek Örneği\n",
    "\n",
    "## 1️⃣ Özellik Çıkarımı (Feature Extraction)\n",
    "- YOLO’nun backbone kısmı (CSPDarknet gibi CNN) görseli işler  \n",
    "- Görseldeki **kenarlar, köşeler, renk değişimleri, şekil desenleri** feature map olarak çıkarılır  \n",
    "\n",
    "## 2️⃣ Grid Mantığı\n",
    "- Görsel SxS boyutunda **ızgaralara bölünür** (örn. 20x20)  \n",
    "- Her hücre, kendisine düşen alanda **nesne var mı yok mu** tahmin eder  \n",
    "\n",
    "## 3️⃣ Bounding Box Tahmini\n",
    "- Her hücre bir veya birkaç **anchor box** üretir  \n",
    "- CNN feature map üzerinden:\n",
    "  - **x, y** → kutu merkezi  \n",
    "  - **w, h** → kutu boyutu  \n",
    "  - **confidence score** → bu kutuda nesne var mı  \n",
    "- Model bu değerleri **feature map aktivasyonlarına bakarak öğrenir**  \n",
    "\n",
    "## 4️⃣ Sınıf Tahmini\n",
    "- Aynı kutu ayrıca nesnenin **sınıfını tahmin eder** (softmax/sigmoid)  \n",
    "- Örn: `[tümsek, yol, araç]` → en yüksek olasılık seçilir  \n",
    "\n",
    "## 5️⃣ Non-Maximum Suppression (NMS)\n",
    "- Aynı nesneye birden fazla kutu tahmin edilmişse, **en yüksek güven skoruna sahip kutu seçilir**  \n",
    "- Böylece tek bbox ile nesne tespit edilir  \n",
    "\n",
    "## 🔹 Özet\n",
    "- YOLO **önceden tümsek nerede diye bilmez**  \n",
    "- Model, **feature map’ten özellikleri çıkarır → bbox tahmin eder → sınıf atar**  \n",
    "- Sen veri seti ile modelini eğittikçe, model “tümseğin yolda tipik olarak nasıl göründüğünü” öğrenir\n"
   ]
  },
  {
   "cell_type": "markdown",
   "id": "89ddb141",
   "metadata": {},
   "source": [
    "----\n",
    "\n",
    "# Veri setimizi biraz inceleyelim"
   ]
  },
  {
   "cell_type": "markdown",
   "id": "42547ef8",
   "metadata": {},
   "source": [
    "## Veri Yolumuz aşağıdaki gibi ;\n",
    "\n",
    "```python \n",
    "\n",
    "bump_detection_dataset/\n",
    "│\n",
    "├── train/\n",
    "│   ├── bump/   # sadece görseller\n",
    "│   └── road/   # sadece görseller\n",
    "│\n",
    "└── test/\n",
    "    ├── bump/\n",
    "    └── road/\n"
   ]
  },
  {
   "cell_type": "markdown",
   "id": "5067a981",
   "metadata": {},
   "source": [
    "* Şu an etiket (.txt) dosyaları yok, yani YOLOv8 bunu direkt kullanamaz."
   ]
  },
  {
   "cell_type": "markdown",
   "id": "19867f87",
   "metadata": {},
   "source": [
    "### 🔹 Yapmamız gerekenler\n",
    "\n",
    "##### Görselleri manuel veya otomatik olarak etiketlemek\n",
    "\n",
    "* LabelImg, Roboflow veya benzeri araçlarla\n",
    "\n",
    "* Her görsel için bounding box oluştur\n",
    "\n",
    "* .txt dosyası otomatik üretilir\n",
    "\n",
    "* Format: class_id x_center y_center width height (YOLO formatı)"
   ]
  },
  {
   "cell_type": "markdown",
   "id": "521689b7",
   "metadata": {},
   "source": [
    "##### Data.yaml dosyası oluşturmak"
   ]
  },
  {
   "cell_type": "markdown",
   "id": "9189b35b",
   "metadata": {},
   "source": [
    "```bash \n",
    "train: \"C:/Users/hdgn5/OneDrive/Masaüstü/YOLO/YOLO/Uygulamalar/Dataset/Speed_Bump/bump_detection_dataset/train\"\n",
    "val: \"C:/Users/hdgn5/OneDrive/Masaüstü/YOLO/YOLO/Uygulamalar/Dataset/Speed_Bump/bump_detection_dataset/test\"\n",
    "\n",
    "nc: 2\n",
    "names: [\"bump\", \"road\"]\n"
   ]
  },
  {
   "cell_type": "markdown",
   "id": "a57d5087",
   "metadata": {},
   "source": [
    "##### YOLOv8 ile fine-tune eğitimi"
   ]
  },
  {
   "cell_type": "markdown",
   "id": "e842482a",
   "metadata": {},
   "source": [
    "```python \n",
    "from ultralytics import YOLO\n",
    "\n",
    "model = YOLO(\"yolov8n.pt\")\n",
    "model.train(\n",
    "    data=\"data.yaml\",\n",
    "    epochs=50,\n",
    "    imgsz=640,\n",
    "    batch=16,\n",
    "    project=\"runs/train\",\n",
    "    name=\"bump_road_model\"\n",
    ")\n"
   ]
  },
  {
   "cell_type": "markdown",
   "id": "fcbbf9cb",
   "metadata": {},
   "source": [
    "## 💡 Özet:\n",
    "\n",
    "* Mevcut görselleri etiketlemeden özel YOLO eğitimi yapamazsın.\n",
    "\n",
    "* İnsan ve araç gibi sınıflar yok, sadece “bump” ve “road” olacak şekilde etiketle.\n",
    "\n",
    "* Etiketleme tamamlandıktan sonra eğitim yaparsak, model yalnızca istediğimiz nesneleri tanıyacak."
   ]
  },
  {
   "cell_type": "markdown",
   "id": "51ada855",
   "metadata": {},
   "source": [
    "---\n",
    "# 🔹 Tüm görseller için YOLO format .txt oluşturma"
   ]
  },
  {
   "cell_type": "markdown",
   "id": "43fa2a96",
   "metadata": {},
   "source": [
    "## 🔹 Mantık\n",
    "\n",
    "1. **Önceden eğitimli YOLOv8 modelini kullan**\n",
    "   - Başlangıçta `yolov8n.pt` gibi COCO modelini kullanacağız\n",
    "   - Bu model yol, tümsek, insan, araç gibi genel nesneleri tahmin edebilir\n",
    "\n",
    "2. **Sadece bizim istediğimiz sınıfları al**\n",
    "   - Örn: `bump` → sınıf 0, `road` → sınıf 1\n",
    "   - İnsan veya araç bounding box’larını atla\n",
    "\n",
    "3. **Her görsel için bounding box koordinatlarını al**\n",
    "   - `results[0].boxes.xyxy` → xmin, ymin, xmax, ymax\n",
    "   - `results[0].boxes.cls` → sınıf ID\n",
    "\n",
    "4. **YOLO formatına çevir ve `.txt` oluştur**\n",
    "   ```python\n",
    "   x_center = (xmin + xmax) / 2 / w\n",
    "   y_center = (ymin + ymax) / 2 / h\n",
    "   box_w = (xmax - xmin) / w\n",
    "   box_h = (ymax - ymin) / h\n"
   ]
  },
  {
   "cell_type": "markdown",
   "id": "a013a0d3",
   "metadata": {},
   "source": [
    "----\n",
    "## Bunu manuel olarak uygulamadan yapalım"
   ]
  },
  {
   "cell_type": "markdown",
   "id": "cba7963d",
   "metadata": {},
   "source": [
    "# 🔹 LabelImg - Görsel Etiketleme Aracı\n",
    "\n",
    "LabelImg, YOLO veya Pascal VOC formatında görselleri etiketlemek için kullanılan **Python tabanlı bir GUI aracıdır**. Görsel üzerinde nesneleri işaretleyip `.txt` veya `.xml` dosyaları olarak kaydedebilir.\n",
    "\n",
    "\n",
    "\n",
    "## 🔹 Mantığı\n",
    "\n",
    "1. **Görsel Seçimi**\n",
    "   - `Open Dir` ile etiketlenecek görsellerin bulunduğu klasörü seçersin.\n",
    "\n",
    "2. **Nesne Etiketleme**\n",
    "   - **Create RectBox** ile görsel üzerinde dikdörtgen kutu çizilir.\n",
    "   - Her kutu bir sınıfa atanır (örn. bump → 0, road → 1).\n",
    "\n",
    "3. **YOLO Formatı Kaydı**\n",
    "   - `.txt` dosyası görsel ile **aynı isimle** oluşturulur:\n",
    "     ```\n",
    "     image001.jpg → image001.txt\n",
    "     ```\n",
    "   - İçerik:\n",
    "     ```\n",
    "     <class_id> <x_center> <y_center> <width> <height>\n",
    "     ```\n",
    "     - `x_center`, `y_center`, `width`, `height` → **0–1 arasında normalize edilmiş değerler**\n",
    "\n",
    "4. **Pascal VOC Formatı (Opsiyonel)**\n",
    "   - `.xml` dosyaları oluşturularak farklı formatta da kaydedilebilir.\n",
    "\n",
    "5. **Kaydetme**\n",
    "   - **Save** tuşuna basıldığında, seçilen kutular ve sınıflar `.txt` veya `.xml` dosyasına kaydedilir.\n",
    "\n",
    "\n",
    "\n",
    "## 🔹 Kurulum (Windows için)\n",
    "\n",
    "### 1️⃣ Python ile Kurulum\n",
    "1. Python 3.10 veya 3.11 önerilir.\n",
    "2. Gerekli paketleri yükle:\n",
    "```bash\n",
    "pip install pyqt5==5.15.9 lxml pillow sip\n"
   ]
  },
  {
   "cell_type": "markdown",
   "id": "d1fdeb38",
   "metadata": {},
   "source": [
    "* GitHub’dan LabelImg’i klonla veya indir:"
   ]
  },
  {
   "cell_type": "markdown",
   "id": "f80acca6",
   "metadata": {},
   "source": [
    "```python\n",
    "git clone https://github.com/heartexlabs/labelImg.git\n",
    "cd labelImg\n",
    "python labelImg.py\n"
   ]
  },
  {
   "cell_type": "markdown",
   "id": "5c1b9fd3",
   "metadata": {},
   "source": [
    "## 🔹 İpuçları\n",
    "\n",
    "* Klasör ve dosya isimlerinde Türkçe karakter kullanma, yoksa UnicodeEncodeError çıkar.\n",
    "\n",
    "* YOLO formatı için .txt dosyaları görsellerle aynı ada sahip olmalı.\n",
    "\n",
    " Sınıflar için ID belirle:\n",
    "\n",
    "0 → bump\n",
    "\n",
    "1 → road\n",
    "\n",
    "* Her kutu çizildikten sonra Save tuşuna bas → koordinatlar otomatik kaydedilir."
   ]
  },
  {
   "cell_type": "markdown",
   "id": "931b2912",
   "metadata": {},
   "source": []
  }
 ],
 "metadata": {
  "kernelspec": {
   "display_name": "base",
   "language": "python",
   "name": "python3"
  },
  "language_info": {
   "codemirror_mode": {
    "name": "ipython",
    "version": 3
   },
   "file_extension": ".py",
   "mimetype": "text/x-python",
   "name": "python",
   "nbconvert_exporter": "python",
   "pygments_lexer": "ipython3",
   "version": "3.13.5"
  }
 },
 "nbformat": 4,
 "nbformat_minor": 5
}

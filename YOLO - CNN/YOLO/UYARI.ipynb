{
 "cells": [
  {
   "cell_type": "markdown",
   "id": "15947398",
   "metadata": {},
   "source": [
    "# YOLO DA KULLANILAN VERİSETİ LİNKİ AŞAĞIDAKİ GİBİDİR : \n",
    "\n",
    "*  https://www.kaggle.com/datasets/ziya07/speed-bump-dataset/data?select=Speed_Bump"
   ]
  },
  {
   "cell_type": "markdown",
   "id": "537b2b66",
   "metadata": {},
   "source": [
    "# 📂 Veri Seti ile Çalışma Kuralları\n",
    "\n",
    "Lütfen aşağıdaki adımlara dikkat edin:  \n",
    "\n",
    "\n",
    "\n",
    "## 🔹 Genel Kurallar\n",
    "1. **Bu veri seti üzerinden örneklerle ilerleyiniz.**  \n",
    "2. **Dosya yollarına dikkat ediniz.**  \n",
    "   - Kod içinde veya açıklamalarda dosya yolları doğru şekilde kullanılmalıdır.  \n",
    "3. **Dosyalardaki işlemleri sıralara göre yapınız.**  \n",
    "   - İşlem adımlarını atlamadan, belirlenen sırayla ilerleyiniz.  \n",
    "\n",
    "\n",
    "\n",
    "## ✅ Özet\n",
    "- Tüm örnekler **verilen veri seti** üzerinde yapılacak.  \n",
    "- Kodlarda **doğru dosya yolları** kullanılacak.  \n",
    "- İşlemler **sıra gözetilerek** uygulanacak.\n"
   ]
  }
 ],
 "metadata": {
  "language_info": {
   "name": "python"
  }
 },
 "nbformat": 4,
 "nbformat_minor": 5
}
